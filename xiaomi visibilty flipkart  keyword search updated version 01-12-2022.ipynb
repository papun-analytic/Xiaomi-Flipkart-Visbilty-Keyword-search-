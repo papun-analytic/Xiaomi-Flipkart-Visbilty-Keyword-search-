{
 "cells": [
  {
   "cell_type": "code",
   "execution_count": 17,
   "id": "e882fdd0",
   "metadata": {},
   "outputs": [
    {
     "name": "stdout",
     "output_type": "stream",
     "text": [
      "Current working directory C:\\Users\\HP\\Documents\\Xiaomi\n",
      "File Readind Started..........\n",
      "['C:\\\\Users\\\\HP\\\\Documents\\\\Xiaomi\\\\xiomi_flipkart_visibility_search_page_test_1 (8).csv', 'C:\\\\Users\\\\HP\\\\Documents\\\\Xiaomi\\\\xiomi_flipkart_visibility_search_page_test_1 (9).csv']\n",
      "File Readind Started..........\n",
      "['C:\\\\Users\\\\HP\\\\Documents\\\\Xiaomi\\\\xiomi_flipkart_visibility_search_page_test_1 (8).csv', 'C:\\\\Users\\\\HP\\\\Documents\\\\Xiaomi\\\\xiomi_flipkart_visibility_search_page_test_1 (9).csv']\n"
     ]
    }
   ],
   "source": [
    "import pandas as pd\n",
    "import numpy as np\n",
    "import os\n",
    "import glob\n",
    "import re\n",
    "import math\n",
    "cwd=os.getcwd()\n",
    "print(\"Current working directory\",cwd)\n",
    "filenames = glob.glob(cwd + \"/*.csv\")\n",
    "main_data=[]\n",
    "\n",
    "for datapath in filenames:\n",
    "    print(\"File Readind Started..........\")\n",
    "    print(filenames)\n",
    "    dataset=pd.read_csv(datapath)\n",
    "    na=[\"_root\",'Data Crawl Completion Time(UTC)', 'Crawl Source Input', 'Brand Input']\n",
    "    link=[]\n",
    "    sku=[]\n",
    "    for column in dataset.columns[2:len(dataset.columns)-3:2]:\n",
    "        if column not in na:\n",
    "            link.append(dataset[column].values)\n",
    "    for column in dataset.columns[1:len(dataset.columns)-3:21]:\n",
    "            sku.append(dataset[column].values)\n",
    "    d=pd.DataFrame()\n",
    "    d[\"Product Link\"]=[x for x in link]\n",
    "    d[\"root\"]=dataset[\"_root\"][0]\n",
    "    d[\"Source\"]=\"Flipkart\"\n",
    "    d[\"date\"]=dataset[\"Data Crawl Completion Time(UTC)\"][0]\n",
    "    s=d.shape[0]\n",
    "    ### ranking dictionary\n",
    "    ls2=[]\n",
    "    if s/24==int(s/24):\n",
    "        n=int(s/24)\n",
    "        for x in range(n):\n",
    "            for y in range(1,25,1):\n",
    "                ls2.append(y)\n",
    "               \n",
    "    elif s<24:\n",
    "        for x in range(1,s+1,1):\n",
    "            ls2.append(x)\n",
    "            \n",
    "    else:\n",
    "        for x in range(int(s/24)):\n",
    "            for y in range(1,25,1):\n",
    "                ls2.append(y)\n",
    "                \n",
    "        for x in range(s-int(s/24)*24):\n",
    "            ls2.append(x+1)\n",
    "            \n",
    "    d[\"Rank\"]=[x for x in ls2]\n",
    "    d[\"SKU\"]=d[\"Product Link\"].str.split(\".com/\")\n",
    "    d[\"Product Link\"]=[x[0] for x in d[\"Product Link\"]]\n",
    "    d[\"SKU\"]=[x.split(\".com/\") for x in d[\"Product Link\"]]\n",
    "    sku=[]\n",
    "    for x in d[\"SKU\"]:\n",
    "        sku.append(x[1])\n",
    "    d[\"SKU\"]=[x for x in sku]\n",
    "    d[\"SKU\"]=[x.split(\"/p/\") for x in d[\"SKU\"]]\n",
    "    sku=[]\n",
    "    for x in d[\"SKU\"]:\n",
    "        sku.append(x[0])\n",
    "    d[\"SKU\"]=[x for x in sku]\n",
    "    ls1=[\"Redmi\",\"Samsung\",\"Poco\",\"Realme\",\"Oneplus\",\"Apple\",\"Narzo\",\"Infinix\",\"Iqoo\",\"Tecno\",\"Xiaomi\",\"Oppo\",\"Vivo\",\"moto\"]\n",
    "    brand=[x.lower() for x in ls1]\n",
    "    for i,x in enumerate(brand):\n",
    "        for i,e in enumerate(d[\"SKU\"]):\n",
    "            try:\n",
    "                if x in e:\n",
    "                    d.loc[i,[\"Brand\"]]=x\n",
    "            except:\n",
    "                print()\n",
    "    \n",
    "    main_data.append(d)\n",
    "df=pd.concat(main_data)\n",
    "df[\"date\"]=df[\"date\"].str.split(\" \")\n",
    "df[\"date\"]=[x[0] for x in df[\"date\"]]\n",
    "brandrank=df.groupby(['date','Brand'])['Rank'].mean().reset_index()\n",
    "skurank=df.groupby(['date','SKU'])['Rank'].mean().reset_index()\n",
    "brandrank.columns=[\"date\",\"Brand\",\"brand rank\"]\n",
    "skurank.columns=[\"date\",\"SKU\",\"sku rank\"]\n",
    "df_brand=df.merge(brandrank,on=[\"date\",\"Brand\"],how=\"inner\")\n",
    "df_sku=df_brand.merge(skurank,on=[\"date\",\"SKU\"],how=\"inner\")\n",
    "df_sku.drop_duplicates(subset=[\"Brand\",\"SKU\",\"date\"],inplace=True)\n",
    "df_sku.to_csv(\"output.csv\",index=False)"
   ]
  },
  {
   "cell_type": "code",
   "execution_count": 19,
   "id": "7aec31b3",
   "metadata": {},
   "outputs": [
    {
     "data": {
      "text/plain": [
       "array(['samsung', 'realme', 'redmi', 'apple', 'poco'], dtype=object)"
      ]
     },
     "execution_count": 19,
     "metadata": {},
     "output_type": "execute_result"
    }
   ],
   "source": [
    "df_sku[\"Brand\"].unique()"
   ]
  },
  {
   "cell_type": "code",
   "execution_count": 20,
   "id": "0812fb37",
   "metadata": {},
   "outputs": [
    {
     "data": {
      "text/plain": [
       "5"
      ]
     },
     "execution_count": 20,
     "metadata": {},
     "output_type": "execute_result"
    }
   ],
   "source": [
    "df_sku[\"Brand\"].nunique()"
   ]
  },
  {
   "cell_type": "code",
   "execution_count": null,
   "id": "e15b5fe2",
   "metadata": {},
   "outputs": [],
   "source": []
  }
 ],
 "metadata": {
  "kernelspec": {
   "display_name": "Python 3 (ipykernel)",
   "language": "python",
   "name": "python3"
  },
  "language_info": {
   "codemirror_mode": {
    "name": "ipython",
    "version": 3
   },
   "file_extension": ".py",
   "mimetype": "text/x-python",
   "name": "python",
   "nbconvert_exporter": "python",
   "pygments_lexer": "ipython3",
   "version": "3.9.12"
  }
 },
 "nbformat": 4,
 "nbformat_minor": 5
}
